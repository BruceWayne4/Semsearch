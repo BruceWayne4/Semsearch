{
 "cells": [
  {
   "cell_type": "code",
   "execution_count": null,
   "metadata": {},
   "outputs": [],
   "source": [
    "pip install python-dotenv\n"
   ]
  },
  {
   "cell_type": "code",
   "execution_count": null,
   "metadata": {},
   "outputs": [],
   "source": [
    "import os\n",
    "from tqdm.autonotebook import tqdm\n",
    "import io\n",
    "import codecs\n",
    "import numpy as np\n",
    "import multiprocessing"
   ]
  },
  {
   "cell_type": "code",
   "execution_count": null,
   "metadata": {},
   "outputs": [],
   "source": [
    "from dotenv import load_dotenv\n",
    "\n",
    "load_dotenv()\n"
   ]
  },
  {
   "cell_type": "code",
   "execution_count": 11,
   "metadata": {},
   "outputs": [],
   "source": [
    "import pinecone\n",
    "api_key=os.environ.get('Pinecone_API')\n",
    "\n",
    "\n",
    "pinecone.init(api_key, environment=\"asia-northeast1-gcp\")\n",
    "pinecone.create_index(\n",
    " 'open-ai',\n",
    "    dimension=1536,\n",
    " shards=1)\n",
    "\n",
    "\n",
    "\n"
   ]
  },
  {
   "cell_type": "code",
   "execution_count": 12,
   "metadata": {},
   "outputs": [],
   "source": [
    "index= pinecone.Index('open-ai')"
   ]
  },
  {
   "cell_type": "code",
   "execution_count": 14,
   "metadata": {},
   "outputs": [],
   "source": [
    "import openai\n",
    "openai.api_key= os.environ.get('openai_api')\n",
    "model = \"text-embedding-ada-002\"\n",
    "\n",
    "res = openai.Embedding.create(\n",
    "    input=[\n",
    "        \"Sample document text goes here\",\n",
    "        \n",
    "    ], engine=model\n",
    ")\n"
   ]
  },
  {
   "cell_type": "code",
   "execution_count": null,
   "metadata": {},
   "outputs": [],
   "source": [
    "import gdown\n",
    "url = 'https://drive.google.com/drive/folders/18nLtKaO5hYKfCxSgN8T3qEe9DxyAcnZA?usp=sharing'\n",
    "output_path = 'C:/Users/Akshay/Desktop/filetesting'\n",
    "\n",
    "gdown.download_folder(url=url, output=output_path, quiet=True)\n"
   ]
  },
  {
   "cell_type": "code",
   "execution_count": null,
   "metadata": {},
   "outputs": [],
   "source": [
    "folder_path = \"C:/Users/Akshay/Desktop/filetesting\"  # Replace with the actual path to the folder\n",
    "\n",
    "# Get a list of all files in the folder\n",
    "file_list = [f for f in os.listdir(folder_path) if os.path.isfile(os.path.join(folder_path, f))]\n",
    "\n",
    "# Print the list of files\n",
    "print(file_list)"
   ]
  },
  {
   "cell_type": "code",
   "execution_count": null,
   "metadata": {},
   "outputs": [],
   "source": [
    "# Define function to vectorize file using OpenAI\n",
    "batch_size= 64\n",
    "model = \"text-embedding-ada-002\"\n",
    "def vectorize_file(file_path):\n",
    "    with open(file_path, \"r\", encoding=\"latin1\") as f:\n",
    "        lines = f.readlines()\n",
    "        from tqdm.auto import tqdm\n",
    "        for i in tqdm(range(0, len(lines), batch_size)):\n",
    "             lines_batch = lines[i: i+batch_size] \n",
    "             print(lines_batch)\n",
    "             res = openai.Embedding.create(input=lines_batch, engine=model) \n",
    "             vector = res[\"data\"][0][\"embedding\"]\n",
    "             namespace = os.path.basename(file_path)  # use file name as namespace\n",
    "             embeds = [record['embedding'] for record in res['data']]\n",
    "             meta = [{'text': line} for line in lines_batch]\n",
    "             to_upsert = zip(namespace, embeds, meta)\n",
    "             index.upsert(vectors=list(to_upsert))\n",
    "             print(namespace)\n",
    "\n",
    "             print(embeds)\n",
    "        \n",
    "folder_path = \"C:/Users/Akshay/Desktop/filetesting\"  # Replace with the actual path to the folder\n",
    "\n",
    "# Get a list of all files in the folder\n",
    "file_list = [f for f in os.listdir(folder_path) if os.path.isfile(os.path.join(folder_path, f))]\n",
    "\n",
    "# Print the list of files\n",
    "print(file_list)\n",
    "batch_size=64\n",
    "for file_name in file_list:\n",
    "    path_parts = [\"C:/\", \"Users\", \"Akshay\", \"Desktop\", \"filetesting\"]  # Replace with the path parts\n",
    "\n",
    "# Use os.path.join to construct the full path\n",
    "    file_path = os.path.join(*path_parts, file_name)\n",
    "\n",
    "# Replace any backward slashes with forward slashes\n",
    "    file_path = file_path.replace(\"\\\\\", \"/\")\n",
    "\n",
    "# Print the full path\n",
    "    print(file_path)\n",
    "    vector = vectorize_file(file_path)\n",
    "\n",
    "\n",
    "\n",
    "\n",
    "\n"
   ]
  },
  {
   "cell_type": "code",
   "execution_count": null,
   "metadata": {},
   "outputs": [],
   "source": [
    "print(\"input_query\")\n",
    "query = \"RPM\"\n",
    "\n",
    "xq = openai.Embedding.create(input=query, engine=model)['data'][0]['embedding']\n",
    "\n",
    "res = index.query([xq], top_k=10, include_metadata=True)\n",
    "for match in res['matches']:\n",
    "    print(f\"Namespace: {match['id']}\")\n",
    "    print(f\"Score: {match['score']:.2f}\")\n",
    "    print(f\"Text: {match['metadata']['text']}\\n\")"
   ]
  },
  {
   "cell_type": "code",
   "execution_count": null,
   "metadata": {},
   "outputs": [],
   "source": [
    "index_stats_response = index.describe_index_stats()\n",
    "print(index_stats_response)\n"
   ]
  },
  {
   "cell_type": "code",
   "execution_count": 15,
   "metadata": {},
   "outputs": [],
   "source": [
    "pinecone.delete_index(\"open-ai\")\n",
    "\n"
   ]
  },
  {
   "cell_type": "code",
   "execution_count": 35,
   "metadata": {},
   "outputs": [],
   "source": [
    "folder = \"C:/Users/Akshay/Desktop/filetesting\"\n",
    "\n",
    "# loop over each file in the folder\n",
    "for filename in os.listdir(folder):\n",
    "    # construct the full path of the file\n",
    "    file_path = os.path.join(folder, filename)\n",
    "    # check if the file is a regular file (i.e., not a directory)\n",
    "    if os.path.isfile(file_path):\n",
    "        # delete the file\n",
    "        os.remove(file_path)"
   ]
  },
  {
   "cell_type": "code",
   "execution_count": null,
   "metadata": {},
   "outputs": [],
   "source": [
    "\n"
   ]
  }
 ],
 "metadata": {
  "kernelspec": {
   "display_name": ".venv",
   "language": "python",
   "name": "python3"
  },
  "language_info": {
   "codemirror_mode": {
    "name": "ipython",
    "version": 3
   },
   "file_extension": ".py",
   "mimetype": "text/x-python",
   "name": "python",
   "nbconvert_exporter": "python",
   "pygments_lexer": "ipython3",
   "version": "3.11.3"
  },
  "orig_nbformat": 4
 },
 "nbformat": 4,
 "nbformat_minor": 2
}
